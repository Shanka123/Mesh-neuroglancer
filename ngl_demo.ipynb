{
 "cells": [
  {
   "cell_type": "code",
   "execution_count": 26,
   "metadata": {
    "scrolled": true
   },
   "outputs": [],
   "source": [
    "import neuroglancer as ngl"
   ]
  },
  {
   "cell_type": "markdown",
   "metadata": {},
   "source": [
    "Setting up your initial neuroglancer server session. This must be run from the machine that will use the browser as the connection operates through localhost"
   ]
  },
  {
   "cell_type": "code",
   "execution_count": 21,
   "metadata": {},
   "outputs": [
    {
     "data": {
      "text/html": [
       "<a href=\"http://127.0.0.1:8890/v/b14bfeb98198175a2b9ada7a453fc408913a410d/\" target=\"_blank\">Viewer</a>"
      ],
      "text/plain": [
       "http://127.0.0.1:8890/v/b14bfeb98198175a2b9ada7a453fc408913a410d/"
      ]
     },
     "execution_count": 21,
     "metadata": {},
     "output_type": "execute_result"
    }
   ],
   "source": [
    "ngl.set_static_content_source(url=\"https://graphene-v0-dot-neuromancer-seung-import.appspot.com/\")\n",
    "ngl.set_server_bind_address(bind_port=8890)\n",
    "viewer = ngl.Viewer()\n",
    "viewer"
   ]
  },
  {
   "cell_type": "markdown",
   "metadata": {},
   "source": [
    "Click the link above to go to your neuroglancer session. The commands below will update your session"
   ]
  },
  {
   "cell_type": "markdown",
   "metadata": {},
   "source": [
    "Adding layers, and setting the base voxel resolution"
   ]
  },
  {
   "cell_type": "code",
   "execution_count": 64,
   "metadata": {},
   "outputs": [],
   "source": [
    "with viewer.txn() as state:\n",
    "    state.layers[\"img\"] = ngl.ImageLayer(source=\"precomputed://gs://neuroglancer/pinky100_v0/son_of_alignment_v15_rechunked\")\n",
    "    state.layers[\"proofreading_before\"] = ngl.ChunkedgraphSegmentationLayer(source=\"graphene://https://www.dynamicannotationframework.com/segmentation/1.0/pinky100_sv16\")\n",
    "    state.layers[\"proofreading_after\"] = ngl.ChunkedgraphSegmentationLayer(source=\"graphene://https://www.dynamicannotationframework.com/segmentation/1.0/pinky100_sv16\")\n",
    "    \n",
    "    state.layers[\"seg\"] = ngl.SegmentationLayer(source=\"precomputed://gs://microns_public_datasets/pinky100_v185/seg\")\n",
    "    state.layers[\"annotations\"] = ngl.AnnotationLayer()\n",
    "    state.position.voxelSize = [4, 4, 40]"
   ]
  },
  {
   "cell_type": "code",
   "execution_count": 67,
   "metadata": {},
   "outputs": [],
   "source": [
    "with viewer.txn() as state:\n",
    "    state.layers[\"proofreading_before\"].segments = [648518346349529589]"
   ]
  },
  {
   "cell_type": "markdown",
   "metadata": {},
   "source": [
    "Selecting segments"
   ]
  },
  {
   "cell_type": "code",
   "execution_count": 68,
   "metadata": {},
   "outputs": [],
   "source": [
    "with viewer.txn() as state:\n",
    "    state.layers[\"proofreading_after\"].segments = [648518346349529592, 648518346349529778]"
   ]
  },
  {
   "cell_type": "markdown",
   "metadata": {},
   "source": [
    "Moving center point"
   ]
  },
  {
   "cell_type": "code",
   "execution_count": 14,
   "metadata": {},
   "outputs": [],
   "source": [
    "with viewer.txn() as state:\n",
    "    state.position = ngl.SpatialPosition(\n",
    "        voxel_size=[4, 4, 40], voxelCoordinates=[41261, 72191, 1732])"
   ]
  },
  {
   "cell_type": "markdown",
   "metadata": {},
   "source": [
    "Displaying points"
   ]
  },
  {
   "cell_type": "code",
   "execution_count": 15,
   "metadata": {},
   "outputs": [],
   "source": [
    "with viewer.txn() as state:\n",
    "    # *2 scales points from 8x8x40 (last link) to 4x4x40 (this session)\n",
    "    annotations = [ngl.PointAnnotation(point=(20513*2, 35586*2, 1679), id=\"1\"),\n",
    "                   ngl.PointAnnotation(point=(20485*2, 35792*2, 1694), id=\"2\")]\n",
    "    \n",
    "    state.layers[\"annotations\"].annotations = annotations"
   ]
  },
  {
   "cell_type": "markdown",
   "metadata": {},
   "source": [
    "Line annotation"
   ]
  },
  {
   "cell_type": "code",
   "execution_count": 16,
   "metadata": {},
   "outputs": [],
   "source": [
    "with viewer.txn() as state:\n",
    "    annotations = [ngl.LineAnnotation(\n",
    "        pointA=(20513*2, 35586*2, 1679),\n",
    "        pointB=(20485*2, 35792*2, 1694), id=\"line1\")]\n",
    "    \n",
    "    state.layers[\"annotations\"].annotations = annotations"
   ]
  },
  {
   "cell_type": "markdown",
   "metadata": {},
   "source": [
    "Bounding box annotation"
   ]
  },
  {
   "cell_type": "code",
   "execution_count": 17,
   "metadata": {},
   "outputs": [],
   "source": [
    "with viewer.txn() as state:\n",
    "    annotations = [ngl.AxisAlignedBoundingBoxAnnotation(\n",
    "        pointA=(20513*2, 35586*2, 1679),\n",
    "        pointB=(20485*2, 35792*2, 1694), id=\"box1\")]\n",
    "    \n",
    "    state.layers[\"annotations\"].annotations = annotations"
   ]
  },
  {
   "cell_type": "code",
   "execution_count": 69,
   "metadata": {},
   "outputs": [],
   "source": [
    "with viewer.txn() as state:\n",
    "    state.position = ngl.SpatialPosition(\n",
    "                         voxel_size=[4, 4, 40],\n",
    "                         voxelCoordinates=(19902*2, 32324*2, 2068))"
   ]
  }
 ],
 "metadata": {
  "kernelspec": {
   "display_name": "Python 3",
   "language": "python",
   "name": "python3"
  },
  "language_info": {
   "codemirror_mode": {
    "name": "ipython",
    "version": 3
   },
   "file_extension": ".py",
   "mimetype": "text/x-python",
   "name": "python",
   "nbconvert_exporter": "python",
   "pygments_lexer": "ipython3",
   "version": "3.7.4"
  }
 },
 "nbformat": 4,
 "nbformat_minor": 4
}
